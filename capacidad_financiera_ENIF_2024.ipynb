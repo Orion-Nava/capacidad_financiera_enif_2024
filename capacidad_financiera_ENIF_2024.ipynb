{
  "nbformat": 4,
  "nbformat_minor": 0,
  "metadata": {
    "colab": {
      "provenance": []
    },
    "kernelspec": {
      "name": "python3",
      "display_name": "Python 3"
    },
    "language_info": {
      "name": "python"
    }
  },
  "cells": [
    {
      "cell_type": "markdown",
      "source": [
        "El objetivo es clasificar a las personas de acuerdo con su capacidad financiera. Sin embargo, no hay alguna etiqueta de \"capacidad financiera\" en el conjunto de datos, sino que esta es una variable latente multidimensional, por lo que será necesario considerar inicialmente todas las variables y seleccionar aquellas que aporten información relevante al concepto basado en cierto criterio. Posteriormente, se propondrá la costrucción de un índice basado en el uso de componentes principales. Y se finalizará con la discretización de este índice para la clasificación."
      ],
      "metadata": {
        "id": "ccvT8AS-bZIF"
      }
    },
    {
      "cell_type": "code",
      "execution_count": null,
      "metadata": {
        "id": "2akFGId-wHaq"
      },
      "outputs": [],
      "source": [
        "import pandas as pd\n",
        "thogar = pd.read_csv(\"/content/conjunto_de_datos_thogar_enif2024.csv\")\n",
        "tmodulo = pd.read_csv(\"/content/conjunto_de_datos_tmodulo_enif2024.csv\")\n",
        "tsdem = pd.read_csv(\"/content/conjunto_de_datos_tsdem_enif2024.csv\")\n",
        "tvivienda = pd.read_csv(\"/content/conjunto_de_datos_tvivienda_enif2024.csv\")"
      ]
    },
    {
      "cell_type": "markdown",
      "source": [
        "- El conjunto de datos `thogar` contiene datos a nivel hogar, pero el análisis es sobre la capacidad financiera de las personas, no del hogar, por lo que no nos interesa.\n",
        "\n",
        "- Similarmente, los datos sociodemográficos de `tsdem` no nos interesan para formar una clasificación. Quizá después podrían servir como predictores de la capacidad financiera, o para hacer conglomerados, pero por ahora no parece conveniente usarlos para la clasificación.\n",
        "\n",
        "- Los datos de la `tvivienda`, aunque no no son el núcleo de la capacidad financiera, sí podrían proporcionar información sobre ella, en tanto que complementan el diagnóstico sobre el contexto económico del hogar.\n",
        "\n",
        "- `tmodulo` contiene gran cantidad de variables directamente relacionadas con la capacidad financiera de las personas, por lo que será el centro de nuestro análisis."
      ],
      "metadata": {
        "id": "sloWjJr9iGdX"
      }
    },
    {
      "cell_type": "markdown",
      "source": [
        "Observando el diagrama ER, `tvivienda` tiene una relación uno a muchos con `tmodulo`, por lo que haremos una LEFT JOIN para obtener una nueva base de datos con todas las variables de interés."
      ],
      "metadata": {
        "id": "vPDwimhqnWEl"
      }
    },
    {
      "cell_type": "code",
      "source": [
        "df = tmodulo.merge(tvivienda, on='llaveviv', how='left')\n",
        "df.info()"
      ],
      "metadata": {
        "colab": {
          "base_uri": "https://localhost:8080/"
        },
        "id": "bYAEgs2Sm83w",
        "outputId": "4bc7da44-285b-406e-8919-57f8d50dcf7e"
      },
      "execution_count": null,
      "outputs": [
        {
          "output_type": "stream",
          "name": "stdout",
          "text": [
            "<class 'pandas.core.frame.DataFrame'>\n",
            "RangeIndex: 13502 entries, 0 to 13501\n",
            "Columns: 416 entries, llavemod to fac_viv\n",
            "dtypes: float64(262), int64(154)\n",
            "memory usage: 42.9 MB\n"
          ]
        }
      ]
    },
    {
      "cell_type": "markdown",
      "source": [
        "Se tienen un total de 416 variables. Lo siguiente es hacer una selección de variables de acuerdo con la definición de *capacidad financiera*. Para ello, creamos una lista con palabras clave en la definición de capacidad financiera, y extraemos aquellos nombres de variables cuya descripción contenga coincidencias semánticas con la definición en cuestión. Esto nos permite reducir la dimensionalidad del conjunto de datos, conservando variables relevantes para la variable latente objetivo.\n",
        "\n",
        "Posteriormente, se crea un nuevo data frame filtrando aquellas variables seleccionadas, agregando también una lista de variables escogidas relativas a la vivienda, pues el análisis semántico para la selección de variables solo se hace con las variables relativas al módulo."
      ],
      "metadata": {
        "id": "bR3wxuFroCd5"
      }
    },
    {
      "cell_type": "code",
      "source": [
        "import pandas as pd\n",
        "\n",
        "# Eliminamos las claves, que no aprtan información útil a partir de ahora.\n",
        "df = df.drop([\"llaveviv\", \"llavehog\"], axis=1)\n",
        "\n",
        "# Diccionario que contiene los nombres de los campos y sus descripciones.\n",
        "dic_modulo = pd.read_csv(\"diccionario_datos_tmodulo_enif2024.csv\")\n",
        "\n",
        "# Lista de palabras clave basadas en la definición de capacidad financiera.\n",
        "criterios_cp = [\n",
        "    \"conocimiento\", \"sabe\", \"saber\", \"conoce\", \"conocer\", \"entender\",\n",
        "    \"actitud\", \"comportamiento\", \"hábito\", \"hábitos\", \"acción\",\n",
        "    \"gasta\", \"gasto\", \"ahorra\", \"ahorro\", \"ingreso\", \"ingresos\",\n",
        "    \"endeuda\", \"endeudamiento\", \"crédito\", \"cuenta\", \"banco\", \"gana\",\n",
        "    \"seguro\", \"financiera\", \"finanzas\", \"manejo\", \"decisión\", \"decisiones\",\n",
        "    \"uso de\", \"confianza\", \"retiro\", \"retiros\", \"pago\", \"pagos\",\n",
        "    \"presupuesto\", \"dinero\", \"riesgo\", \"cobertura\", \"interés\", \"contratar\", \"ahorrado\",\n",
        "    \"económico\", \"economico\", \"financiero\", \"financieros\", \"producto financiero\",\n",
        "    \"tarjeta de crédito\", \"tarjeta de débito\", \"tarjeta bancaria\"\n",
        "]\n",
        "\n",
        "# Identificar variables relevantes según si contienen alguna palabra clave en su descripción.\n",
        "dic_modulo['relevante'] = dic_modulo['nombre_campo'].str.lower().apply(\n",
        "    lambda texto: any(p in texto for p in criterios_cp)\n",
        ")\n",
        "\n",
        "# Extraer nombre de las variables relevantes.\n",
        "variables_relevantes = dic_modulo[dic_modulo['relevante']][['nombre_campo', 'catálogo']]\n",
        "var_rel_nom = dic_modulo.loc[dic_modulo['relevante'], 'catálogo'].dropna().astype(str).str.strip().tolist()\n",
        "var_rel_nom += [\"llavemod\", \"p0_2\", \"p0_3\", \"p0_4_1\", \"p0_4_1a\", \"p0_4_2\", \"p1_1\"]\n",
        "\n",
        "# Filtrar solo las variables que existen en df.\n",
        "var_rel_nom = [v for v in var_rel_nom if v in df.columns]\n",
        "df2 = df[var_rel_nom].copy()\n",
        "print(df2.info())\n",
        "\n",
        "# Ver tabla de variables relevantes.\n",
        "pd.set_option('display.max_columns', None)\n",
        "pd.set_option('display.width', 1000)\n",
        "# print(variables_relevantes)"
      ],
      "metadata": {
        "colab": {
          "base_uri": "https://localhost:8080/"
        },
        "collapsed": true,
        "id": "a9cwD5YCxgEh",
        "outputId": "5047d802-535e-4ed7-e1d0-604eb9a06e27"
      },
      "execution_count": null,
      "outputs": [
        {
          "output_type": "stream",
          "name": "stdout",
          "text": [
            "<class 'pandas.core.frame.DataFrame'>\n",
            "RangeIndex: 13502 entries, 0 to 13501\n",
            "Columns: 309 entries, p3_4 to p1_1\n",
            "dtypes: float64(220), int64(89)\n",
            "memory usage: 31.8 MB\n",
            "None\n"
          ]
        }
      ]
    },
    {
      "cell_type": "markdown",
      "source": [
        "Analizando las variables con mayor cantidad de datos faltantes, se seleccionó un umbral del 20 % de datos faltantes como condición suficiente para eliminar las variables. La razón por la cual se escogió este umbral tan bajo es porque en su gran mayoría los datos faltantes pertenecen a variables condicionales, es decir, son preguntas que se hacen si su respuesta a cierta pregunta fue \"Sí\" (por ejemplo), sin embargo, la pregunta inicial contiene la información más relevante de ese bloque de preguntas, mientras que el resto son precisiones.\n",
        "\n",
        "Además, se revisaron aquellas variables con porcentaje de datos faltantes menores al umbral, y seguían el mismo patrón: la pregunta inicial del bloque contenía la información relevante, por lo que también fueron eliminadas manualmente."
      ],
      "metadata": {
        "id": "PRPDZCVfgtke"
      }
    },
    {
      "cell_type": "code",
      "source": [
        "import pandas as pd\n",
        "\n",
        "# Calcular número y porcentaje de valores faltantes por columna.\n",
        "resumen = pd.DataFrame({\n",
        "    'faltantes': df2.isnull().sum(),\n",
        "    'porcentaje': (df2.isnull().mean() * 100).round(2)\n",
        "}).T\n",
        "\n",
        "pd.set_option('display.max_columns', None)\n",
        "pd.set_option('display.width', 1000)\n",
        "print(resumen)"
      ],
      "metadata": {
        "colab": {
          "base_uri": "https://localhost:8080/"
        },
        "id": "yZxckhj76VZH",
        "outputId": "41c28771-a837-4780-ea9b-905de31aacd0"
      },
      "execution_count": null,
      "outputs": [
        {
          "output_type": "stream",
          "name": "stdout",
          "text": [
            "            p3_4  p3_5_7   p3_11a    p3_12  p4_1  p4_2_1  p4_2_2  p4_2_4  p4_2_5  p4_3   p4_4_1   p4_4_2   p4_4_3   p4_4_4   p4_4_5   p4_4_6   p4_4_7  p4_5  p4_6_2  p4_6_3  p4_6_4  p4_6_5  p4_6_6  p4_7_2  p4_7_3  p4_8_2  p4_8_3  p4_8_5  p4_8_6  p4_9_1  p4_9_2  p4_10  p4_12_02  p4_12_04  p4_12_05  p4_12_06  p4_12_99  p5_1_1  p5_1_3  p5_1_4  p5_1_6   p5_2_1   p5_2_2   p5_2_3   p5_2_4   p5_2_5   p5_2_6   p5_2_7   p5_2_8   p5_2_9     p5_3  p5_4_1   p5_5_1   p5_6_1  p5_4_2    p5_5_2    p5_6_2  p5_4_3    p5_5_3    p5_6_3  p5_4_4    p5_5_4    p5_6_4  p5_4_5    p5_5_5    p5_6_5  p5_4_8    p5_5_8    p5_6_8  p5_4_9    p5_5_9    p5_6_9  p5_7_01  p5_7_02  p5_7_03  p5_7_04  p5_7_05  p5_7_06  p5_7_07  p5_7_08  p5_7_09  p5_7_10  p5_7_99  filtro_s5_1  p5_8_1  p5_8_2  p5_8_3  p5_8_4  p5_8_5  p5_8_6  p5_8_7  p5_8_8  p5_8_9    p5_9  filtro_s5_2    p5_10  filtro_s5_3    p5_11     p5_12    p5_14   p5_15_1   p5_15_2   p5_15_3   p5_15_4   p5_15_5   p5_15_6   p5_15_7    p5_16  p5_17_1  p5_17_2  p5_17_3  \\\n",
            "faltantes    0.0     0.0  4134.00  4706.00   0.0     0.0     0.0     0.0     0.0   0.0  8181.00  8181.00  8181.00  8181.00  8181.00  8181.00  8181.00   0.0     0.0     0.0     0.0     0.0     0.0     0.0     0.0     0.0     0.0     0.0     0.0     0.0     0.0    0.0  12009.00  12009.00  12009.00  12009.00  12009.00     0.0     0.0     0.0     0.0  5912.00  5912.00  5912.00  5912.00  5912.00  5912.00  5912.00  5912.00  5912.00  5912.00     0.0  9197.00  9197.00     0.0  12504.00  12504.00     0.0  10971.00  10971.00     0.0  10405.00  10405.00     0.0  13198.00  13198.00     0.0  12095.00  12095.00     0.0  13496.00  13496.00  4346.00  4346.00  4346.00  4346.00  4346.00  4346.00  4346.00  4346.00  4346.00  4346.00  4346.00      4346.00  9424.0  9424.0  9424.0  9424.0  9424.0  9424.0  9424.0  9424.0  9424.0  9424.0      4346.00  9197.00      4346.00  4771.00  10619.00  4346.00  11973.00  11973.00  11973.00  11973.00  11973.00  11973.00  11973.00  4346.00  4346.00  4346.00  4346.00   \n",
            "porcentaje   0.0     0.0    30.62    34.85   0.0     0.0     0.0     0.0     0.0   0.0    60.59    60.59    60.59    60.59    60.59    60.59    60.59   0.0     0.0     0.0     0.0     0.0     0.0     0.0     0.0     0.0     0.0     0.0     0.0     0.0     0.0    0.0     88.94     88.94     88.94     88.94     88.94     0.0     0.0     0.0     0.0    43.79    43.79    43.79    43.79    43.79    43.79    43.79    43.79    43.79    43.79     0.0    68.12    68.12     0.0     92.61     92.61     0.0     81.25     81.25     0.0     77.06     77.06     0.0     97.75     97.75     0.0     89.58     89.58     0.0     99.96     99.96    32.19    32.19    32.19    32.19    32.19    32.19    32.19    32.19    32.19    32.19    32.19        32.19    69.8    69.8    69.8    69.8    69.8    69.8    69.8    69.8    69.8    69.8        32.19    68.12        32.19    35.34     78.65    32.19     88.68     88.68     88.68     88.68     88.68     88.68     88.68    32.19    32.19    32.19    32.19   \n",
            "\n",
            "            p5_17_4  p5_17_5  p5_17_6  p5_17_7  p5_17_8    p5_18    p5_19    p5_20     p5_21   p5_22  p5_23  p5_24_1  p5_24_2  p5_24_3  p5_24_4  p5_24_5  p5_24_6  p5_24_9  p6_1_1  p6_2_1    p6_3_1    p6_4_1  p6_2_2    p6_3_2    p6_4_2  p6_2_3    p6_3_3    p6_4_3  p6_2_4    p6_3_4    p6_4_4  p6_2_5    p6_3_5    p6_4_5  p6_2_6    p6_3_6    p6_4_6  p6_2_7    p6_3_7    p6_4_7  p6_2_8    p6_3_8    p6_4_8  p6_2_9    p6_3_9    p6_4_9   p6_5_1   p6_5_2   p6_5_3   p6_5_4     p6_6     p6_7  filtro_s6_1    p6_8      p6_9    p6_10  p6_11_1  p6_11_2  p6_11_3  p6_11_4  p6_11_5  p6_11_6  p6_11_7    p6_12   p6_12a    p6_13    p6_14     p6_15  p6_16   p6_17_1   p6_17_2   p6_17_3   p6_17_4   p6_17_5   p6_17_6   p6_17_9  p7_1_1  p7_1_2  p7_2_1   p7_3_1  p7_2_2    p7_3_2  p7_5      p7_6  p7_7  p7_9_1_2  p7_9_2_2  p7_8_3  p7_9_3_1  p7_9_3_2  p7_9_3_3  p7_8_4  p7_9_4_1  p7_9_4_2  p7_9_4_3  p7_9_5_2  p7_10  p8_1    p8_2     p8_3      p8_4   p8_5_1    p8_6_1   p8_5_2    p8_6_2    p8_7_2    p8_8_2   p8_5_3  \\\n",
            "faltantes   4346.00  4346.00  4346.00  4346.00  4346.00  4346.00  9156.00  10532.0  12126.00  2970.0    0.0  9366.00  9366.00  9366.00  9366.00  9366.00  9366.00  9366.00     0.0     0.0  10392.00  12865.00     0.0  11306.00  13131.00     0.0  13024.00  13477.00     0.0  12904.00  13413.00     0.0  13238.00  13485.00     0.0  12515.00  13292.00     0.0  13193.00  13471.00     0.0  13302.00  13467.00     0.0  13499.00  13501.00  8254.00  8254.00  8254.00  8254.00  8254.00  8254.00      8254.00  9357.0  12758.00  8254.00  11990.0  11990.0  11990.0  11990.0  11990.0  11990.0  11990.0  8254.00  8254.00  5248.00  7025.00  11725.00    0.0  11039.00  11039.00  11039.00  11039.00  11039.00  11039.00  11039.00     0.0     0.0     0.0  8732.00     0.0  11209.00   0.0  11877.00   0.0    993.00   2424.00     0.0    3376.0    3376.0    3376.0     0.0   5168.00   5168.00   5168.00   9826.00    0.0   0.0  3267.0  4954.00  11904.00  10235.0  11441.00  10235.0  12494.00  12494.00  12807.00  10235.0   \n",
            "porcentaje    32.19    32.19    32.19    32.19    32.19    32.19    67.81     78.0     89.81    22.0    0.0    69.37    69.37    69.37    69.37    69.37    69.37    69.37     0.0     0.0     76.97     95.28     0.0     83.74     97.25     0.0     96.46     99.81     0.0     95.57     99.34     0.0     98.04     99.87     0.0     92.69     98.44     0.0     97.71     99.77     0.0     98.52     99.74     0.0     99.98     99.99    61.13    61.13    61.13    61.13    61.13    61.13        61.13    69.3     94.49    61.13     88.8     88.8     88.8     88.8     88.8     88.8     88.8    61.13    61.13    38.87    52.03     86.84    0.0     81.76     81.76     81.76     81.76     81.76     81.76     81.76     0.0     0.0     0.0    64.67     0.0     83.02   0.0     87.96   0.0      7.35     17.95     0.0      25.0      25.0      25.0     0.0     38.28     38.28     38.28     72.77    0.0   0.0    24.2    36.69     88.16     75.8     84.74     75.8     92.53     92.53     94.85     75.8   \n",
            "\n",
            "              p8_6_3    p8_7_3    p8_8_3   p8_5_4    p8_6_4    p8_7_4    p8_8_4   p8_5_5    p8_6_5    p8_7_5    p8_8_5   p8_5_6   p8_5_7   p8_5_8    p8_6_8    p8_7_8    p8_8_8  filtro_s8_1      p8_9   p8_10_1   p8_10_2   p8_10_3   p8_10_4   p8_10_5     p8_11   p8_12_1   p8_12_2   p8_12_3   p8_12_4   p8_12_5   p8_12_6   p8_12_7  p9_1     p9_3     p9_5   p9_6_1   p9_6_2   p9_6_3   p9_6_4   p9_6_5   p9_6_6   p9_6_7   p9_6_8     p9_8   p9_9_1   p9_9_2   p9_9_3   p9_9_4   p9_9_5   p9_9_6  p10_1  p10_4  p10_7    p10_8  p11_1_1  p11_1_2  p11_1_3  p11_1_4  p11_1_5  p11_2_1  p11_2_2  p11_2_3  p11_3_1  p11_3_2  p11_3_3  p11_3_4  p11_3_5  p11_3_6  p11_3_9    p11_4  p11_6_1  p11_6_2  p11_6_3  p11_6_4    p11_7  p12_1  p12_2  p12_3  p12_4  p13_1  p13_4_1  p13_4_2   p13_4_3  llavemod  p0_2  p0_3  p0_4_1  p0_4_1a  p0_4_2  p1_1  \n",
            "faltantes   11897.00  11897.00  12316.00  10235.0  13066.00  13066.00  13237.00  10235.0  13139.00  13139.00  13324.00  10235.0  10235.0  10235.0  13473.00  13473.00  13485.00      10235.0  11580.00  11580.00  11580.00  11580.00  11580.00  11580.00  11580.00  12636.00  12636.00  12636.00  12636.00  12636.00  12636.00  12636.00   0.0  7732.00  7732.00  7732.00  7732.00  7732.00  7732.00  7732.00  7732.00  7732.00  7732.00  7732.00  1123.00  1123.00  1123.00  1123.00  1123.00  1123.00    0.0    0.0    0.0  6160.00      0.0      0.0      0.0      0.0      0.0      0.0      0.0      0.0      0.0      0.0      0.0      0.0      0.0      0.0      0.0  6080.00      0.0      0.0      0.0  3441.00  3441.00    0.0    0.0    0.0    0.0    0.0  8188.00  9264.00  12060.00       0.0   0.0   0.0     0.0  6662.00     0.0   0.0  \n",
            "porcentaje     88.11     88.11     91.22     75.8     96.77     96.77     98.04     75.8     97.31     97.31     98.68     75.8     75.8     75.8     99.79     99.79     99.87         75.8     85.77     85.77     85.77     85.77     85.77     85.77     85.77     93.59     93.59     93.59     93.59     93.59     93.59     93.59   0.0    57.27    57.27    57.27    57.27    57.27    57.27    57.27    57.27    57.27    57.27    57.27     8.32     8.32     8.32     8.32     8.32     8.32    0.0    0.0    0.0    45.62      0.0      0.0      0.0      0.0      0.0      0.0      0.0      0.0      0.0      0.0      0.0      0.0      0.0      0.0      0.0    45.03      0.0      0.0      0.0    25.49    25.49    0.0    0.0    0.0    0.0    0.0    60.64    68.61     89.32       0.0   0.0   0.0     0.0    49.34     0.0   0.0  \n"
          ]
        }
      ]
    },
    {
      "cell_type": "code",
      "source": [
        "umbral = 0.20\n",
        "# Identificar columnas con más de 'umbral' de valores faltantes.\n",
        "columnas_por_umbral = df2.columns[df2.isnull().mean() > umbral].tolist()\n",
        "\n",
        "# Otras columnas con valores faltantes a eliminar por \"selección conceptual\".\n",
        "columnas_manual = [\"p9_9_1\", \"p9_9_2\", \"p9_9_3\", \"p9_9_4\", \"p9_9_5\", \"p9_9_6\", \"p7_9_2_2\", \"p7_9_1_2\"]\n",
        "\n",
        "columnas_a_eliminar = list(set(columnas_por_umbral + columnas_manual))\n",
        "df3 = df2.drop(columns=columnas_a_eliminar)\n",
        "\n",
        "print(f\"Columnas eliminadas: {len(columnas_a_eliminar)}\")\n",
        "print(f\"Columnas restantes: {df3.shape[1]}\")\n",
        "print(\"Columnas eliminadas:\", columnas_a_eliminar)"
      ],
      "metadata": {
        "colab": {
          "base_uri": "https://localhost:8080/"
        },
        "id": "50OHzNLsDW7h",
        "outputId": "6f30385d-bc67-41c5-82b1-efb2645e38a2"
      },
      "execution_count": null,
      "outputs": [
        {
          "output_type": "stream",
          "name": "stdout",
          "text": [
            "Columnas eliminadas: 220\n",
            "Columnas restantes: 89\n",
            "Columnas eliminadas: ['p3_12', 'p6_11_5', 'p5_2_4', 'p6_17_2', 'p6_4_8', 'p9_6_8', 'p6_4_1', 'p6_17_9', 'filtro_s5_3', 'p5_7_08', 'p5_6_8', 'p6_17_1', 'p6_5_1', 'p4_12_99', 'p8_8_4', 'p5_15_6', 'p5_6_5', 'p8_6_4', 'p4_4_5', 'p8_12_4', 'p9_6_2', 'p6_17_6', 'p8_12_1', 'p8_6_2', 'p8_10_5', 'p6_4_7', 'p5_15_3', 'p5_17_5', 'p6_11_6', 'p8_5_5', 'p8_7_8', 'p5_7_06', 'p6_17_4', 'p5_24_4', 'p8_6_8', 'p8_10_1', 'p5_17_2', 'p8_6_5', 'filtro_s8_1', 'p4_4_6', 'p8_10_2', 'p5_9', 'p11_6_4', 'p0_4_1a', 'p6_9', 'p4_4_3', 'p8_3', 'p5_2_8', 'p5_3', 'p9_6_1', 'p4_4_4', 'p5_6_3', 'filtro_s5_2', 'p6_11_7', 'p7_9_4_2', 'p8_12_7', 'p6_12a', 'p5_2_1', 'p5_5_4', 'p5_21', 'p6_3_1', 'p9_3', 'p5_5_8', 'p9_9_4', 'p5_19', 'p5_2_7', 'p6_12', 'p11_7', 'p6_3_6', 'p5_8_4', 'p8_12_3', 'p8_8_8', 'p5_7_02', 'p6_15', 'p5_8_7', 'p4_12_02', 'p5_8_3', 'p5_8_9', 'p4_4_2', 'p9_8', 'p9_6_4', 'p4_12_05', 'p5_18', 'p6_10', 'p5_15_1', 'p7_9_5_2', 'p8_12_5', 'p5_7_07', 'p8_7_4', 'p9_9_1', 'p5_17_4', 'p7_9_3_2', 'p8_8_3', 'p9_5', 'p7_3_1', 'p5_10', 'p6_3_7', 'p5_7_05', 'p5_16', 'p5_6_9', 'p6_4_3', 'p6_5_3', 'p5_5_5', 'p5_24_5', 'p5_20', 'p5_24_2', 'p5_2_2', 'p6_4_5', 'filtro_s6_1', 'p5_7_10', 'p5_2_5', 'p5_17_6', 'p5_17_7', 'p13_4_3', 'p5_6_1', 'p6_17_3', 'p5_12', 'p8_10_3', 'p7_9_4_3', 'p8_7_5', 'p5_5_9', 'p7_9_4_1', 'p5_24_6', 'p5_6_2', 'p4_4_1', 'p6_4_9', 'p5_5_1', 'p7_9_3_1', 'p4_4_7', 'p5_24_1', 'p7_9_3_3', 'p9_9_5', 'p5_7_03', 'p5_24_9', 'p9_6_6', 'p5_6_4', 'p5_15_5', 'p5_14', 'p8_5_1', 'p6_11_2', 'p6_11_3', 'p13_4_2', 'p5_8_1', 'p6_3_2', 'p10_8', 'p5_17_1', 'p5_7_01', 'p6_4_6', 'p6_3_5', 'p5_5_2', 'p8_7_2', 'p6_7', 'p5_22', 'p8_5_4', 'p8_5_3', 'p5_5_3', 'p9_9_3', 'p6_14', 'p5_2_9', 'p6_4_4', 'p8_5_7', 'p8_9', 'p8_6_1', 'p5_11', 'p5_17_3', 'p6_4_2', 'p8_5_8', 'p8_10_4', 'p5_2_6', 'p8_5_6', 'p6_17_5', 'p8_8_2', 'p8_12_6', 'p11_4', 'p8_5_2', 'p6_11_1', 'p5_15_2', 'p8_4', 'p5_8_8', 'p7_9_2_2', 'p5_24_3', 'p6_8', 'p8_6_3', 'p8_12_2', 'p9_6_5', 'p5_7_09', 'p5_17_8', 'p6_3_3', 'p8_8_5', 'p9_9_2', 'p5_15_7', 'p5_8_6', 'p6_5_4', 'p5_2_3', 'p6_3_9', 'p8_7_3', 'p8_11', 'p3_11a', 'p5_7_04', 'p7_3_2', 'p9_6_3', 'p6_6', 'p4_12_06', 'p7_6', 'p9_9_6', 'p5_8_2', 'p6_3_8', 'p6_13', 'p4_12_04', 'p6_3_4', 'p8_2', 'p6_11_4', 'p5_15_4', 'p6_5_2', 'p13_4_1', 'filtro_s5_1', 'p5_7_99', 'p5_8_5', 'p9_6_7', 'p7_9_1_2']\n"
          ]
        }
      ]
    },
    {
      "cell_type": "code",
      "source": [
        "df3.isnull().sum().sum()"
      ],
      "metadata": {
        "colab": {
          "base_uri": "https://localhost:8080/"
        },
        "id": "IbL5CcU7jO7x",
        "outputId": "b2e42f1c-7314-4960-8763-0e49a571668e"
      },
      "execution_count": null,
      "outputs": [
        {
          "output_type": "execute_result",
          "data": {
            "text/plain": [
              "np.int64(0)"
            ]
          },
          "metadata": {},
          "execution_count": 33
        }
      ]
    },
    {
      "cell_type": "markdown",
      "source": [
        "La eliminación justificada de variables permitió obtener un conjunto de datos casi sin valores faltantes. Dado que los porcentajes de datos faltantes son muy bajos por variable (0.03 %), es intuitivo pensar que quizá se trate de algunas observaciones problemáticas, evidenciado a continuación."
      ],
      "metadata": {
        "id": "Qs2XkxXwicyE"
      }
    },
    {
      "cell_type": "code",
      "source": [
        "df3[df3.isnull().any(axis=1)]"
      ],
      "metadata": {
        "colab": {
          "base_uri": "https://localhost:8080/",
          "height": 73
        },
        "id": "fVF4xrhujlwE",
        "outputId": "813fb2bb-a4dc-441c-8eb8-826367e623ce"
      },
      "execution_count": null,
      "outputs": [
        {
          "output_type": "execute_result",
          "data": {
            "text/plain": [
              "Empty DataFrame\n",
              "Columns: [p3_4, p3_5_7, p4_1, p4_2_1, p4_2_2, p4_2_4, p4_2_5, p4_3, p4_5, p4_6_2, p4_6_3, p4_6_4, p4_6_5, p4_6_6, p4_7_2, p4_7_3, p4_8_2, p4_8_3, p4_8_5, p4_8_6, p4_9_1, p4_9_2, p4_10, p5_1_1, p5_1_3, p5_1_4, p5_1_6, p5_4_1, p5_4_2, p5_4_3, p5_4_4, p5_4_5, p5_4_8, p5_4_9, p5_23, p6_1_1, p6_2_1, p6_2_2, p6_2_3, p6_2_4, p6_2_5, p6_2_6, p6_2_7, p6_2_8, p6_2_9, p6_16, p7_1_1, p7_1_2, p7_2_1, p7_2_2, p7_5, p7_7, p7_8_3, p7_8_4, p7_10, p8_1, p9_1, p10_1, p10_4, p10_7, p11_1_1, p11_1_2, p11_1_3, p11_1_4, p11_1_5, p11_2_1, p11_2_2, p11_2_3, p11_3_1, p11_3_2, p11_3_3, p11_3_4, p11_3_5, p11_3_6, p11_3_9, p11_6_1, p11_6_2, p11_6_3, p12_1, p12_2, p12_3, p12_4, p13_1, llavemod, p0_2, p0_3, p0_4_1, p0_4_2, p1_1]\n",
              "Index: []"
            ],
            "text/html": [
              "\n",
              "  <div id=\"df-95c3ba3f-42ee-49c9-8927-85adefd01866\" class=\"colab-df-container\">\n",
              "    <div>\n",
              "<style scoped>\n",
              "    .dataframe tbody tr th:only-of-type {\n",
              "        vertical-align: middle;\n",
              "    }\n",
              "\n",
              "    .dataframe tbody tr th {\n",
              "        vertical-align: top;\n",
              "    }\n",
              "\n",
              "    .dataframe thead th {\n",
              "        text-align: right;\n",
              "    }\n",
              "</style>\n",
              "<table border=\"1\" class=\"dataframe\">\n",
              "  <thead>\n",
              "    <tr style=\"text-align: right;\">\n",
              "      <th></th>\n",
              "      <th>p3_4</th>\n",
              "      <th>p3_5_7</th>\n",
              "      <th>p4_1</th>\n",
              "      <th>p4_2_1</th>\n",
              "      <th>p4_2_2</th>\n",
              "      <th>p4_2_4</th>\n",
              "      <th>p4_2_5</th>\n",
              "      <th>p4_3</th>\n",
              "      <th>p4_5</th>\n",
              "      <th>p4_6_2</th>\n",
              "      <th>p4_6_3</th>\n",
              "      <th>p4_6_4</th>\n",
              "      <th>p4_6_5</th>\n",
              "      <th>p4_6_6</th>\n",
              "      <th>p4_7_2</th>\n",
              "      <th>p4_7_3</th>\n",
              "      <th>p4_8_2</th>\n",
              "      <th>p4_8_3</th>\n",
              "      <th>p4_8_5</th>\n",
              "      <th>p4_8_6</th>\n",
              "      <th>p4_9_1</th>\n",
              "      <th>p4_9_2</th>\n",
              "      <th>p4_10</th>\n",
              "      <th>p5_1_1</th>\n",
              "      <th>p5_1_3</th>\n",
              "      <th>p5_1_4</th>\n",
              "      <th>p5_1_6</th>\n",
              "      <th>p5_4_1</th>\n",
              "      <th>p5_4_2</th>\n",
              "      <th>p5_4_3</th>\n",
              "      <th>p5_4_4</th>\n",
              "      <th>p5_4_5</th>\n",
              "      <th>p5_4_8</th>\n",
              "      <th>p5_4_9</th>\n",
              "      <th>p5_23</th>\n",
              "      <th>p6_1_1</th>\n",
              "      <th>p6_2_1</th>\n",
              "      <th>p6_2_2</th>\n",
              "      <th>p6_2_3</th>\n",
              "      <th>p6_2_4</th>\n",
              "      <th>p6_2_5</th>\n",
              "      <th>p6_2_6</th>\n",
              "      <th>p6_2_7</th>\n",
              "      <th>p6_2_8</th>\n",
              "      <th>p6_2_9</th>\n",
              "      <th>p6_16</th>\n",
              "      <th>p7_1_1</th>\n",
              "      <th>p7_1_2</th>\n",
              "      <th>p7_2_1</th>\n",
              "      <th>p7_2_2</th>\n",
              "      <th>p7_5</th>\n",
              "      <th>p7_7</th>\n",
              "      <th>p7_8_3</th>\n",
              "      <th>p7_8_4</th>\n",
              "      <th>p7_10</th>\n",
              "      <th>p8_1</th>\n",
              "      <th>p9_1</th>\n",
              "      <th>p10_1</th>\n",
              "      <th>p10_4</th>\n",
              "      <th>p10_7</th>\n",
              "      <th>p11_1_1</th>\n",
              "      <th>p11_1_2</th>\n",
              "      <th>p11_1_3</th>\n",
              "      <th>p11_1_4</th>\n",
              "      <th>p11_1_5</th>\n",
              "      <th>p11_2_1</th>\n",
              "      <th>p11_2_2</th>\n",
              "      <th>p11_2_3</th>\n",
              "      <th>p11_3_1</th>\n",
              "      <th>p11_3_2</th>\n",
              "      <th>p11_3_3</th>\n",
              "      <th>p11_3_4</th>\n",
              "      <th>p11_3_5</th>\n",
              "      <th>p11_3_6</th>\n",
              "      <th>p11_3_9</th>\n",
              "      <th>p11_6_1</th>\n",
              "      <th>p11_6_2</th>\n",
              "      <th>p11_6_3</th>\n",
              "      <th>p12_1</th>\n",
              "      <th>p12_2</th>\n",
              "      <th>p12_3</th>\n",
              "      <th>p12_4</th>\n",
              "      <th>p13_1</th>\n",
              "      <th>llavemod</th>\n",
              "      <th>p0_2</th>\n",
              "      <th>p0_3</th>\n",
              "      <th>p0_4_1</th>\n",
              "      <th>p0_4_2</th>\n",
              "      <th>p1_1</th>\n",
              "    </tr>\n",
              "  </thead>\n",
              "  <tbody>\n",
              "  </tbody>\n",
              "</table>\n",
              "</div>\n",
              "    <div class=\"colab-df-buttons\">\n",
              "\n",
              "  <div class=\"colab-df-container\">\n",
              "    <button class=\"colab-df-convert\" onclick=\"convertToInteractive('df-95c3ba3f-42ee-49c9-8927-85adefd01866')\"\n",
              "            title=\"Convert this dataframe to an interactive table.\"\n",
              "            style=\"display:none;\">\n",
              "\n",
              "  <svg xmlns=\"http://www.w3.org/2000/svg\" height=\"24px\" viewBox=\"0 -960 960 960\">\n",
              "    <path d=\"M120-120v-720h720v720H120Zm60-500h600v-160H180v160Zm220 220h160v-160H400v160Zm0 220h160v-160H400v160ZM180-400h160v-160H180v160Zm440 0h160v-160H620v160ZM180-180h160v-160H180v160Zm440 0h160v-160H620v160Z\"/>\n",
              "  </svg>\n",
              "    </button>\n",
              "\n",
              "  <style>\n",
              "    .colab-df-container {\n",
              "      display:flex;\n",
              "      gap: 12px;\n",
              "    }\n",
              "\n",
              "    .colab-df-convert {\n",
              "      background-color: #E8F0FE;\n",
              "      border: none;\n",
              "      border-radius: 50%;\n",
              "      cursor: pointer;\n",
              "      display: none;\n",
              "      fill: #1967D2;\n",
              "      height: 32px;\n",
              "      padding: 0 0 0 0;\n",
              "      width: 32px;\n",
              "    }\n",
              "\n",
              "    .colab-df-convert:hover {\n",
              "      background-color: #E2EBFA;\n",
              "      box-shadow: 0px 1px 2px rgba(60, 64, 67, 0.3), 0px 1px 3px 1px rgba(60, 64, 67, 0.15);\n",
              "      fill: #174EA6;\n",
              "    }\n",
              "\n",
              "    .colab-df-buttons div {\n",
              "      margin-bottom: 4px;\n",
              "    }\n",
              "\n",
              "    [theme=dark] .colab-df-convert {\n",
              "      background-color: #3B4455;\n",
              "      fill: #D2E3FC;\n",
              "    }\n",
              "\n",
              "    [theme=dark] .colab-df-convert:hover {\n",
              "      background-color: #434B5C;\n",
              "      box-shadow: 0px 1px 3px 1px rgba(0, 0, 0, 0.15);\n",
              "      filter: drop-shadow(0px 1px 2px rgba(0, 0, 0, 0.3));\n",
              "      fill: #FFFFFF;\n",
              "    }\n",
              "  </style>\n",
              "\n",
              "    <script>\n",
              "      const buttonEl =\n",
              "        document.querySelector('#df-95c3ba3f-42ee-49c9-8927-85adefd01866 button.colab-df-convert');\n",
              "      buttonEl.style.display =\n",
              "        google.colab.kernel.accessAllowed ? 'block' : 'none';\n",
              "\n",
              "      async function convertToInteractive(key) {\n",
              "        const element = document.querySelector('#df-95c3ba3f-42ee-49c9-8927-85adefd01866');\n",
              "        const dataTable =\n",
              "          await google.colab.kernel.invokeFunction('convertToInteractive',\n",
              "                                                    [key], {});\n",
              "        if (!dataTable) return;\n",
              "\n",
              "        const docLinkHtml = 'Like what you see? Visit the ' +\n",
              "          '<a target=\"_blank\" href=https://colab.research.google.com/notebooks/data_table.ipynb>data table notebook</a>'\n",
              "          + ' to learn more about interactive tables.';\n",
              "        element.innerHTML = '';\n",
              "        dataTable['output_type'] = 'display_data';\n",
              "        await google.colab.output.renderOutput(dataTable, element);\n",
              "        const docLink = document.createElement('div');\n",
              "        docLink.innerHTML = docLinkHtml;\n",
              "        element.appendChild(docLink);\n",
              "      }\n",
              "    </script>\n",
              "  </div>\n",
              "\n",
              "\n",
              "    </div>\n",
              "  </div>\n"
            ],
            "application/vnd.google.colaboratory.intrinsic+json": {
              "type": "dataframe"
            }
          },
          "metadata": {},
          "execution_count": 34
        }
      ]
    },
    {
      "cell_type": "markdown",
      "source": [
        "La `llavemod` 305803101 es la problemática, por lo tanto, basta con eliminar esta fila para tener un conjunto de datos sin datos faltantes."
      ],
      "metadata": {
        "id": "wXQJo12HkGv_"
      }
    },
    {
      "cell_type": "code",
      "source": [
        "df3 = df3[df3['llavemod'] != 305803101]\n",
        "df3.isnull().sum().sum()"
      ],
      "metadata": {
        "colab": {
          "base_uri": "https://localhost:8080/"
        },
        "id": "EAUnniFOkc_F",
        "outputId": "cb092012-9565-4cb9-da00-7d00750658ee"
      },
      "execution_count": null,
      "outputs": [
        {
          "output_type": "execute_result",
          "data": {
            "text/plain": [
              "np.int64(0)"
            ]
          },
          "metadata": {},
          "execution_count": 35
        }
      ]
    },
    {
      "cell_type": "markdown",
      "source": [
        "A continuación se muestra el número de valores diferentes que toma cada una de las variables. Analizándolas, solo las últimas tres variables relativas a la vivienda son realmente numéricas (sin contar `llavemod`); el resto, aunque en esencia deberían ser ordinales, la construcción de las mismas impide manejarlas como tal (por ejemplo, tienen 5 opciones de respuesta, donde dos o tres tienen orden, pero el resto no)."
      ],
      "metadata": {
        "id": "aCwsS1XkHay2"
      }
    },
    {
      "cell_type": "code",
      "source": [
        "nunique_series = df3.nunique().sort_values()\n",
        "print(nunique_series.T.to_frame().T)"
      ],
      "metadata": {
        "colab": {
          "base_uri": "https://localhost:8080/"
        },
        "id": "mNIM4Q7E-daG",
        "outputId": "3d900b8a-6acc-4989-8e32-40c44982bebf"
      },
      "execution_count": null,
      "outputs": [
        {
          "output_type": "stream",
          "name": "stdout",
          "text": [
            "   p3_4  p4_1  p4_2_1  p4_2_2  p4_2_5  p4_2_4  p4_3  p4_5  p5_1_3  p5_1_4  p5_1_6  p5_4_1  p5_4_2  p4_9_1  p5_1_1  p4_9_2  p5_4_4  p5_4_3  p5_4_5  p6_2_9  p6_2_8  p6_2_7  p6_2_6  p6_2_5  p6_2_4  p6_2_3  p6_2_2  p6_2_1  p6_1_1  p5_23  p5_4_9  p5_4_8  p10_7  p7_8_4  p10_4  p7_7  p7_8_3  p10_1  p7_2_2  p7_2_1  p7_5  p11_3_6  p11_3_9  p11_6_3  p11_3_1  p11_3_2  p11_3_3  p11_3_4  p11_3_5  p0_4_2  p0_4_1  p11_1_2  p11_2_1  p11_1_5  p11_6_2  p11_6_1  p11_1_4  p7_1_2  p11_1_1  p9_1  p11_1_3  p8_1  p6_16  p7_1_1  p13_1  p12_1  p11_2_2  p11_2_3  p4_7_3  p3_5_7  p12_4  p4_7_2  p4_6_5  p4_6_4  p4_8_6  p4_6_6  p4_8_5  p4_8_3  p4_6_2  p4_8_2  p12_3  p12_2  p4_6_3  p7_10  p4_10  p0_3  p0_2  p1_1  llavemod\n",
            "0     2     2       2       2       2       2     2     2       2       2       2       2       2       2       2       2       2       2       2       2       2       2       2       2       2       2       2       2       2      2       2       2      2       2      2     2       2      2       2       2     2        2        2        2        2        2        2        2        2       2       2        3        3        3        3        3        3       3        3     3        3     3      3       3      3      3        3        3       4       4      4       4       5       5       5       5       5       5       5       5      5      5       5      6      7     9    14    16     13501\n"
          ]
        }
      ]
    },
    {
      "cell_type": "code",
      "source": [
        "df3.info()"
      ],
      "metadata": {
        "colab": {
          "base_uri": "https://localhost:8080/"
        },
        "collapsed": true,
        "id": "5ByXBIkmhjZs",
        "outputId": "be5533aa-80e7-4881-aaf2-c5379c209b43"
      },
      "execution_count": 47,
      "outputs": [
        {
          "output_type": "stream",
          "name": "stdout",
          "text": [
            "<class 'pandas.core.frame.DataFrame'>\n",
            "Index: 13501 entries, 0 to 13501\n",
            "Data columns (total 89 columns):\n",
            " #   Column    Non-Null Count  Dtype\n",
            "---  ------    --------------  -----\n",
            " 0   p3_4      13501 non-null  int64\n",
            " 1   p3_5_7    13501 non-null  int64\n",
            " 2   p4_1      13501 non-null  int64\n",
            " 3   p4_2_1    13501 non-null  int64\n",
            " 4   p4_2_2    13501 non-null  int64\n",
            " 5   p4_2_4    13501 non-null  int64\n",
            " 6   p4_2_5    13501 non-null  int64\n",
            " 7   p4_3      13501 non-null  int64\n",
            " 8   p4_5      13501 non-null  int64\n",
            " 9   p4_6_2    13501 non-null  int64\n",
            " 10  p4_6_3    13501 non-null  int64\n",
            " 11  p4_6_4    13501 non-null  int64\n",
            " 12  p4_6_5    13501 non-null  int64\n",
            " 13  p4_6_6    13501 non-null  int64\n",
            " 14  p4_7_2    13501 non-null  int64\n",
            " 15  p4_7_3    13501 non-null  int64\n",
            " 16  p4_8_2    13501 non-null  int64\n",
            " 17  p4_8_3    13501 non-null  int64\n",
            " 18  p4_8_5    13501 non-null  int64\n",
            " 19  p4_8_6    13501 non-null  int64\n",
            " 20  p4_9_1    13501 non-null  int64\n",
            " 21  p4_9_2    13501 non-null  int64\n",
            " 22  p4_10     13501 non-null  int64\n",
            " 23  p5_1_1    13501 non-null  int64\n",
            " 24  p5_1_3    13501 non-null  int64\n",
            " 25  p5_1_4    13501 non-null  int64\n",
            " 26  p5_1_6    13501 non-null  int64\n",
            " 27  p5_4_1    13501 non-null  int64\n",
            " 28  p5_4_2    13501 non-null  int64\n",
            " 29  p5_4_3    13501 non-null  int64\n",
            " 30  p5_4_4    13501 non-null  int64\n",
            " 31  p5_4_5    13501 non-null  int64\n",
            " 32  p5_4_8    13501 non-null  int64\n",
            " 33  p5_4_9    13501 non-null  int64\n",
            " 34  p5_23     13501 non-null  int64\n",
            " 35  p6_1_1    13501 non-null  int64\n",
            " 36  p6_2_1    13501 non-null  int64\n",
            " 37  p6_2_2    13501 non-null  int64\n",
            " 38  p6_2_3    13501 non-null  int64\n",
            " 39  p6_2_4    13501 non-null  int64\n",
            " 40  p6_2_5    13501 non-null  int64\n",
            " 41  p6_2_6    13501 non-null  int64\n",
            " 42  p6_2_7    13501 non-null  int64\n",
            " 43  p6_2_8    13501 non-null  int64\n",
            " 44  p6_2_9    13501 non-null  int64\n",
            " 45  p6_16     13501 non-null  int64\n",
            " 46  p7_1_1    13501 non-null  int64\n",
            " 47  p7_1_2    13501 non-null  int64\n",
            " 48  p7_2_1    13501 non-null  int64\n",
            " 49  p7_2_2    13501 non-null  int64\n",
            " 50  p7_5      13501 non-null  int64\n",
            " 51  p7_7      13501 non-null  int64\n",
            " 52  p7_8_3    13501 non-null  int64\n",
            " 53  p7_8_4    13501 non-null  int64\n",
            " 54  p7_10     13501 non-null  int64\n",
            " 55  p8_1      13501 non-null  int64\n",
            " 56  p9_1      13501 non-null  int64\n",
            " 57  p10_1     13501 non-null  int64\n",
            " 58  p10_4     13501 non-null  int64\n",
            " 59  p10_7     13501 non-null  int64\n",
            " 60  p11_1_1   13501 non-null  int64\n",
            " 61  p11_1_2   13501 non-null  int64\n",
            " 62  p11_1_3   13501 non-null  int64\n",
            " 63  p11_1_4   13501 non-null  int64\n",
            " 64  p11_1_5   13501 non-null  int64\n",
            " 65  p11_2_1   13501 non-null  int64\n",
            " 66  p11_2_2   13501 non-null  int64\n",
            " 67  p11_2_3   13501 non-null  int64\n",
            " 68  p11_3_1   13501 non-null  int64\n",
            " 69  p11_3_2   13501 non-null  int64\n",
            " 70  p11_3_3   13501 non-null  int64\n",
            " 71  p11_3_4   13501 non-null  int64\n",
            " 72  p11_3_5   13501 non-null  int64\n",
            " 73  p11_3_6   13501 non-null  int64\n",
            " 74  p11_3_9   13501 non-null  int64\n",
            " 75  p11_6_1   13501 non-null  int64\n",
            " 76  p11_6_2   13501 non-null  int64\n",
            " 77  p11_6_3   13501 non-null  int64\n",
            " 78  p12_1     13501 non-null  int64\n",
            " 79  p12_2     13501 non-null  int64\n",
            " 80  p12_3     13501 non-null  int64\n",
            " 81  p12_4     13501 non-null  int64\n",
            " 82  p13_1     13501 non-null  int64\n",
            " 83  llavemod  13501 non-null  int64\n",
            " 84  p0_2      13501 non-null  int64\n",
            " 85  p0_3      13501 non-null  int64\n",
            " 86  p0_4_1    13501 non-null  int64\n",
            " 87  p0_4_2    13501 non-null  int64\n",
            " 88  p1_1      13501 non-null  int64\n",
            "dtypes: int64(89)\n",
            "memory usage: 9.3 MB\n"
          ]
        }
      ]
    },
    {
      "cell_type": "markdown",
      "source": [
        "Ahora se separarán las variables numéricas y nominales. Las nominales serán transformadas mediante codificación one-hot, lo cual permitirá convertir las categorías en variables binarias. Las variables numéricas se mantendrán tal cual. Posteriormente, todas las variables serán escaladas con StandardScaler para que tengan media cero y desviación estándar uno. Esto es crucial porque el PCA es sensible a la escala de las variables."
      ],
      "metadata": {
        "id": "E2g3mvLROTZp"
      }
    },
    {
      "cell_type": "code",
      "source": [
        "import pandas as pd\n",
        "\n",
        "# Cargar diccionario de variables.\n",
        "dic_modulo = pd.read_csv(\"diccionario_datos_tmodulo_enif2024.csv\")\n",
        "\n",
        "# Filtrar diccionario solo con variables que están en df3.\n",
        "variables_df3 = dic_modulo[dic_modulo['catálogo'].isin(df3.columns)]\n",
        "\n",
        "pd.set_option('display.max_rows', None)\n",
        "pd.set_option('display.max_columns', None)\n",
        "pd.set_option('max_colwidth', None)  # o usa float('inf') si prefieres\n",
        "tabla_descripcion = variables_df3[['catálogo', 'nombre_campo']]\n",
        "print(tabla_descripcion)"
      ],
      "metadata": {
        "colab": {
          "base_uri": "https://localhost:8080/"
        },
        "collapsed": true,
        "id": "zRJikg-YjAZe",
        "outputId": "7c754726-7e2c-4df6-a7c6-8b296eaf8cf2"
      },
      "execution_count": null,
      "outputs": [
        {
          "output_type": "stream",
          "name": "stdout",
          "text": [
            "    catálogo                                                                                                                                                                                                                                                                                               nombre_campo\n",
            "9       p3_4                                                                                                                                     Pregunta P3.4 ¿Usted recibe algún apoyo económico o programa de gobierno (personas adultas mayores, becas Benito Juárez, Jóvenes construyendo el futuro, entre otros)?\n",
            "16    p3_5_7   Pregunta P3.5.7 Ahora le entregaré esta tarjeta para que me responda las siguientes preguntas (ENTREGUE LA TARJETA 1). Identifique su respuesta con un número del 1 al 4. En su vida diaria, ¿usted cuánta dificultad tiene para hablar o comunicarse (por ejemplo, entender o ser entendido por otros)?\n",
            "32      p4_1                                                                                                                                                                                                                          Pregunta P4.1 ¿Usted lleva un presupuesto o un registro de sus ingresos y gastos?\n",
            "33    p4_2_1                                                                                                                                                                                                                                     Pregunta P4.2.1 Para usted o su hogar ¿hace anotaciones de los gastos?\n",
            "34    p4_2_2                                                                                                                                                                                       Pregunta P4.2.2 Para usted o su hogar ¿mantiene separado el dinero para pagos o deudas, del dinero del gasto diario?\n",
            "36    p4_2_4                                                                                                                                                     Pregunta P4.2.4 Para usted o su hogar ¿usa una aplicación de celular o una herramienta de administración de dinero para dar seguimiento de los gastos?\n",
            "37    p4_2_5                                                                                                                                                                           Pregunta P4.2.5 Para usted o su hogar ¿tiene alguno de sus pagos con cobro automático a una cuenta o tarjeta (pago domiciliado)?\n",
            "38      p4_3                                                                                        Pregunta P4.3 En los últimos 12 meses, de junio de 2023 a la fecha, ¿lo que ganó o recibió cada mes fue suficiente para cubrir sus gastos (como vivienda, electricidad, agua, salud, alimentos, ropa o transporte)?\n",
            "46      p4_5                                                                                                                                                                                Pregunta P4.5 ¿Usted ha tomado algún curso sobre cómo ahorrar, hacer un presupuesto o sobre el uso responsable del crédito?\n",
            "48    p4_6_2                                                                                            Pregunta P4.6.2 Le voy a hacer unas preguntas. Use las respuestas que vienen en la tarjeta (ENTREGUE LA TARJETA 2). Generalmente ¿paga sus cuentas a tiempo (servicios, tarjeta de crédito, crédito, etcétera)?\n",
            "49    p4_6_3                                                                                                                     Pregunta P4.6.3 Le voy a hacer unas preguntas. Use las respuestas que vienen en la tarjeta (ENTREGUE LA TARJETA 2). Generalmente ¿prefiere gastar dinero que ahorrarlo para el futuro?\n",
            "50    p4_6_4  Pregunta P4.6.4 Le voy a hacer unas preguntas. Use las respuestas que vienen en la tarjeta (ENTREGUE LA TARJETA 2). Generalmente ¿se pone metas económicas a largo plazo y se esfuerza por alcanzarlas (comprar casa, ahorrar para el retiro, pagar vacaciones o fiestas, comenzar un negocio, etcétera)?\n",
            "51    p4_6_5                                                                                                                     Pregunta P4.6.5 Le voy a hacer unas preguntas. Use las respuestas que vienen en la tarjeta (ENTREGUE LA TARJETA 2). Generalmente ¿el manejo de sus ingresos y gastos controla su vida?\n",
            "52    p4_6_6                                                                                                                                            Pregunta P4.6.6 Le voy a hacer unas preguntas. Use las respuestas que vienen en la tarjeta (ENTREGUE LA TARJETA 2). Generalmente ¿le sobra dinero a fin de mes?\n",
            "54    p4_7_2                                                                                                                  Pregunta P4.7.2 De las siguientes frases, dígame si las considera verdaderas o falsas. Si alguien le ofrece la posibilidad de ganar dinero fácilmente, también lo puede perder fácilmente\n",
            "55    p4_7_3                                                            Pregunta P4.7.3 De las siguientes frases, dígame si las considera verdaderas o falsas. Es mejor ahorrar el dinero en dos o más formas o lugares que en uno solo (una cuenta de ahorro, una tanda con familiares o personas conocidas, etcétera)\n",
            "57    p4_8_2                                                                                                                             Pregunta P4.8.2 De las siguientes frases, usando las respuestas de la tarjeta (ENTREGUE LA TARJETA 3). Dígame si está de acuerdo o en desacuerdo. El dinero está para gastarse\n",
            "58    p4_8_3                                                                                                  Pregunta P4.8.3 De las siguientes frases, usando las respuestas de la tarjeta (ENTREGUE LA TARJETA 3). Dígame si está de acuerdo o en desacuerdo. Mantiene una revisión detallada del manejo de su dinero\n",
            "60    p4_8_5                                                                                                         Pregunta P4.8.5 De las siguientes frases, usando las respuestas de la tarjeta (ENTREGUE LA TARJETA 3). Dígame si está de acuerdo o en desacuerdo. Le alcanza bien el dinero para cubrir sus gastos\n",
            "61    p4_8_6                                                                                        Pregunta P4.8.6 De las siguientes frases, usando las respuestas de la tarjeta (ENTREGUE LA TARJETA 3). Dígame si está de acuerdo o en desacuerdo. Se siente tranquila(o) de que el dinero que recibe sea suficiente\n",
            "62    p4_9_1                                                                                                                                           Pregunta P4.9.1 Si el día de hoy se le presentara la oportunidad de comprar una casa, un terreno o abrir un negocio, ¿usted podría aprovecharla con sus ahorros?\n",
            "63    p4_9_2                                                                  Pregunta P4.9.2 Si el día de hoy se le presentara la oportunidad de comprar una casa, un terreno o abrir un negocio, ¿usted podría aprovecharla solicitando un crédito a un banco o institución financiera/ usando su tarjeta de crédito?\n",
            "66     p4_10                                                                                                                                                                                           Pregunta P4.10 Si usted dejara de recibir ingresos, ¿por cuánto tiempo podría cubrir sus gastos con sus ahorros?\n",
            "78    p5_1_1                                                                                                                                                                                                      Pregunta P5.1.1 En los últimos 12 meses, de junio de 2023 a la fecha, ¿usted ahorró prestando dinero?\n",
            "80    p5_1_3                                                                                                                                                      Pregunta P5.1.3 En los últimos 12 meses, de junio de 2023 a la fecha, ¿usted guardó dinero en una caja de ahorro del trabajo o de personas conocidas?\n",
            "81    p5_1_4                                                                                                                                                                            Pregunta P5.1.4 En los últimos 12 meses, de junio de 2023 a la fecha, ¿usted guardó dinero con familiares o personas conocidas?\n",
            "83    p5_1_6                                                                                                                                                                                                     Pregunta P5.1.6 En los últimos 12 meses, de junio de 2023 a la fecha, ¿usted guardó dinero en su casa?\n",
            "94    p5_4_1                                                                                                                                                                                                                       Pregunta P5.4.1 ¿Usted tiene cuenta o tarjeta de nómina (donde depositan su sueldo)?\n",
            "97    p5_4_2                                                                                                                                                                                                                     Pregunta P5.4.2 ¿Usted tiene cuenta o tarjeta de pensión (donde depositan su pensión)?\n",
            "100   p5_4_3                                                                                                                                                                                                                             Pregunta P5.4.3 ¿Usted tiene cuenta o tarjeta para recibir apoyos de gobierno?\n",
            "103   p5_4_4                                                                                                                                                                                                                                                             Pregunta P5.4.4 ¿Usted tiene cuenta de ahorro?\n",
            "106   p5_4_5                                                                                                                                                                                                                                                            Pregunta P5.4.5 ¿Usted tiene cuenta de cheques?\n",
            "113   p5_4_8                                                                                                                                                                               Pregunta P5.4.8 ¿Usted tiene cuenta contratada por Internet o aplicación (no bancaria) como Mercado Pago, Nu o Spin de Oxxo?\n",
            "116   p5_4_9                                                                                                                                                                                                                                                          Pregunta P5.4.9 ¿Usted tiene otro tipo de cuenta?\n",
            "169    p5_23                                                                                                                                               Pregunta P5.23 Los bancos o instituciones financieras como todas las empresas pueden cerrar o quebrar, ¿sabe si en ese caso los ahorros estarían protegidos?\n",
            "177   p6_1_1                                                                                                                                                           Pregunta P6.1.1 En los últimos 12 meses, de junio de 2023 a la fecha, ¿pidió prestado en una caja de ahorro del trabajo o de personas conocidas?\n",
            "185   p6_2_1                                                                                                                                                                                                                 Pregunta P6.2.1 ¿Usted tiene tarjeta de crédito departamental o de tienda de autoservicio?\n",
            "188   p6_2_2                                                                                                                                                                                                                    Pregunta P6.2.2 ¿Usted tiene tarjeta de crédito bancaria u otra institución financiera?\n",
            "191   p6_2_3                                                                                                                                                                                                                                                            Pregunta P6.2.3 ¿Usted tiene crédito de nómina?\n",
            "194   p6_2_4                                                                                                                                                                                                                                                             Pregunta P6.2.4 ¿Usted tiene crédito personal?\n",
            "197   p6_2_5                                                                                                                                                                                                                                                           Pregunta P6.2.5 ¿Usted tiene crédito automotriz?\n",
            "200   p6_2_6                                                                                                                                                                                                      Pregunta P6.2.6 ¿Usted tiene crédito de vivienda como INFONAVIT, FOVISSSTE, banco u otra institución?\n",
            "203   p6_2_7                                                                                                                                                                                                                 Pregunta P6.2.7 ¿Usted tiene crédito grupal, comunal o solidario (como el de Compartamos)?\n",
            "206   p6_2_8                                                                                                                                                                                            Pregunta P6.2.8 ¿Usted tiene crédito contratado por Internet o aplicación como Prestadero, Doopla o YoTePresto?\n",
            "209   p6_2_9                                                                                                                                                                                                                                                         Pregunta P6.2.9 ¿Usted tiene otro tipo de crédito?\n",
            "234    p6_16                                                                                                                                                                                                                                      Pregunta P6.16 ¿Alguna vez le han rechazado una solicitud de crédito?\n",
            "242   p7_1_1                                                                                                                                              Pregunta P7.1.1 Le voy a dar esta tarjeta (ENTREGUE LA TARJETA 5). ¿Qué forma de pago utiliza con más frecuencia cuando realiza compras de 500 pesos o menos?\n",
            "243   p7_1_2                                                                                                                                                Pregunta P7.1.2 Le voy a dar esta tarjeta (ENTREGUE LA TARJETA 5). ¿Qué forma de pago utiliza con más frecuencia cuando realiza compras de 501 pesos o más?\n",
            "244   p7_2_1                                                                                                                                                                                                                                           Pregunta P7.2.1 ¿Conoce o ha escuchado del Cobro Digital o CoDi?\n",
            "246   p7_2_2                                                                                                                                                                                                                                             Pregunta P7.2.2 ¿Conoce o ha escuchado de Dinero Móvil o DiMo?\n",
            "249     p7_5                                                                                                                                                   Pregunta P7.5 En los últimos 12 meses, de junio de 2023 a la fecha, ¿usted ha recibido dinero de familiares o personas conocidas que viven en otro país?\n",
            "251     p7_7                                                                                                                                Pregunta P7.7 De junio de 2023 a la fecha, ¿ha realizado transferencias o envíos de dinero por Internet o aplicación de celular (computadora, tablet, celular inteligente)?\n",
            "260   p7_8_3                                                                                                                                       Pregunta P7.8.3 En los últimos tres meses, de abril de 2024 a la fecha, ¿usted realizó pagos de servicios públicos o privados como agua, luz, Internet, entre otros?\n",
            "264   p7_8_4                                                                                                                         Pregunta P7.8.4 En los últimos tres meses, de abril de 2024 a la fecha, ¿usted realizó pagos de transporte público o privado como taxis, Uber, Didi, camión, (metro), entre otros?\n",
            "272    p7_10                                                                                                                                                               Pregunta P7.10 En los comercios y negocios en donde generalmente compra, ¿usted diría que aceptan pagos con transferencias o con tarjeta...?\n",
            "273     p8_1                                                                                             Pregunta P8.1 ¿Usted tiene algún seguro de auto, de casa, de vida, de gastos médicos u otro (sin considerar el IMSS- Bienestar, Seguro Popular, INSABI (Instituto de Salud para el Bienestar), IMSS o ISSSTE)?\n",
            "316     p9_1                                                                                                                                                                                                                                    Pregunta P9.1 ¿Usted tiene una cuenta de ahorro para el retiro o afore?\n",
            "339    p10_1                                                                                                                                                                   Pregunta P10.1 En los últimos 12 meses, de junio de 2023 a la fecha, ¿ha utilizado alguna sucursal de un banco o institución financiera?\n",
            "343    p10_4                                                                                                                                                                          Pregunta P10.4 De junio de 2023 a la fecha, ¿ha utilizado los cajeros automáticos de algún banco o de una institución financiera?\n",
            "347    p10_7                             Pregunta P10.7 De junio de 2023 a la fecha, ¿ha utilizado alguna tienda o comercio como Oxxo (farmacias, Walmart, Yastás, Telecomm, ahora Financiera para el Bienestar, entre otros) para retirar dinero, depositar efectivo o pagar servicios (luz, agua, predial, etcétera)?\n",
            "351  p11_1_1                                                                                                                                 Pregunta P11.1.1 Si usted tuviera que solicitar los servicios de un banco o cualquier otra institución financiera, ¿considera que recibiría toda la información necesaria?\n",
            "352  p11_1_2                                                                                                                           Pregunta P11.1.2 Si usted tuviera que solicitar los servicios de un banco o cualquier otra institución financiera, ¿considera que resolverían su necesidad o problema económico?\n",
            "353  p11_1_3                                                                                                                                                Pregunta P11.1.3 Si usted tuviera que solicitar los servicios de un banco o cualquier otra institución financiera, ¿considera que estaría seguro su dinero?\n",
            "354  p11_1_4                                                                                                                                  Pregunta P11.1.4 Si usted tuviera que solicitar los servicios de un banco o cualquier otra institución financiera, ¿considera que resolverían sus quejas y reclamaciones?\n",
            "355  p11_1_5                                                                                                                                        Pregunta P11.1.5 Si usted tuviera que solicitar los servicios de un banco o cualquier otra institución financiera, ¿considera que protegerían sus datos personales?\n",
            "356  p11_2_1                                                                                                                                                 Pregunta P11.2.1 En los últimos tres años, de junio de 2021 a la fecha ¿le han clonado su tarjeta de débito o crédito para utilizarla sin su autorización?\n",
            "357  p11_2_2                                                                                              Pregunta P11.2.2 En los últimos tres años, de junio de 2021 a la fecha ¿han utilizado, sin su autorización, sus datos personales para sacar dinero, contratar un crédito u otro servicio (robo de identidad)?\n",
            "358  p11_2_3                                                                                                                         Pregunta P11.2.3 En los últimos tres años, de junio de 2021 a la fecha ¿le han marcado a su teléfono (de casa o celular) de forma insistente para ofrecerle productos financieros?\n",
            "359  p11_3_1                                                                                                            Pregunta P11.3.1 Si tuviera un problema con sus ahorros, un crédito, tarjeta de crédito, seguros o Afore, ¿a qué institución acudiría a presentar su queja? - AL BANCO O INSTITUCIÓN FINANCIERA\n",
            "360  p11_3_2                                                                                                                                Pregunta P11.3.2 Si tuviera un problema con sus ahorros, un crédito, tarjeta de crédito, seguros o Afore, ¿a qué institución acudiría a presentar su queja? - A LA CONDUSEF\n",
            "361  p11_3_3                                                                                                                                  Pregunta P11.3.3 Si tuviera un problema con sus ahorros, un crédito, tarjeta de crédito, seguros o Afore, ¿a qué institución acudiría a presentar su queja? - A LA CONSAR\n",
            "362  p11_3_4                                                                                                                       Pregunta P11.3.4 Si tuviera un problema con sus ahorros, un crédito, tarjeta de crédito, seguros o Afore, ¿a qué institución acudiría a presentar su queja? - A LA PROFECO/ PROFEDET\n",
            "363  p11_3_5                                                                                                                             Pregunta P11.3.5 Si tuviera un problema con sus ahorros, un crédito, tarjeta de crédito, seguros o Afore, ¿a qué institución acudiría a presentar su queja? - AL IMSS O ISSSTE\n",
            "364  p11_3_6                                                                                                                                         Pregunta P11.3.6 Si tuviera un problema con sus ahorros, un crédito, tarjeta de crédito, seguros o Afore, ¿a qué institución acudiría a presentar su queja? - OTRO\n",
            "365  p11_3_9                                                                                                                                      Pregunta P11.3.9 Si tuviera un problema con sus ahorros, un crédito, tarjeta de crédito, seguros o Afore, ¿a qué institución acudiría a presentar su queja? - NO SABE\n",
            "368  p11_6_1                                                                                                                                                                   Pregunta P11.6.1 Por favor, dígame si ¿cambia con frecuencia las contraseñas de los sitios de internet en donde realiza compras o pagos?\n",
            "369  p11_6_2                                                                                                                                                                                               Pregunta P11.6.2 Por favor, dígame si ¿comparte información sobre sus finanzas personales en redes sociales?\n",
            "370  p11_6_3                                                                                                                                                                                        Pregunta P11.6.3 Por favor, dígame si ¿cree que cualquier persona puede hacer operaciones financieras por internet?\n",
            "373    p12_1                                                                                                                                                                Pregunta P12.1 Si usted le presta 25 pesos a una amiga o amigo y a la siguiente semana le regresa los 25 pesos, ¿cuánto le pagó de interés?\n",
            "374    p12_2                                                                                             Pregunta P12.2 Supongamos que deposita 100 pesos en una cuenta de ahorro que le da una ganancia del 2 % al año. Si no realiza depósitos ni retiros, incluyendo los intereses, ¿cuánto tendrá al final del año?\n",
            "375    p12_3                                                                                 Pregunta P12.3 Si deposita 100 pesos en una cuenta de ahorro que le da una ganancia del 2 % al año y no hace depósitos ni retiros, considerando que los intereses se reinvierten, ¿usted tendrá al final de cinco años...?\n",
            "376    p12_4                                                                                                                                                      Pregunta P12.4 Si le regalan $1 000 pesos, pero tiene que esperar un año para gastarlo y en ese año la inflación es de 5 %, ¿usted podría comprar...?\n",
            "377    p13_1                                                                                                                                                                                                         Pregunta P13.1 Las decisiones sobre cómo se gasta o ahorra el dinero en su hogar, ¿las toma(n)...?\n"
          ]
        }
      ]
    },
    {
      "cell_type": "code",
      "source": [
        "from sklearn.preprocessing import OneHotEncoder, StandardScaler\n",
        "import pandas as pd\n",
        "\n",
        "# Variables ordinales.\n",
        "numericas = ['p0_2', 'p0_3', 'p1_1']\n",
        "categoricas = [col for col in df3.columns if col not in numericas + ['llavemod']]\n",
        "\n",
        "# One-hot encoding de las categóricas nominales.\n",
        "df_cat = pd.get_dummies(df3[categoricas], drop_first=True)\n",
        "\n",
        "# Concatenación de ordinales + categóricas codificadas.\n",
        "df_procesado = pd.concat([df3[numericas].reset_index(drop=True), df_cat.reset_index(drop=True)], axis=1)\n",
        "\n",
        "# Escalado.\n",
        "scaler = StandardScaler()\n",
        "X_scaled = scaler.fit_transform(df_procesado)\n",
        "\n",
        "print(f\"Forma final del conjunto procesado: {X_scaled.shape}\")"
      ],
      "metadata": {
        "colab": {
          "base_uri": "https://localhost:8080/"
        },
        "id": "nlS817a7OUMX",
        "outputId": "123fe290-ffba-49b1-a467-ec4b489c627a"
      },
      "execution_count": null,
      "outputs": [
        {
          "output_type": "stream",
          "name": "stdout",
          "text": [
            "Forma final del conjunto procesado: (13501, 88)\n"
          ]
        }
      ]
    },
    {
      "cell_type": "markdown",
      "source": [
        "Se aplicará el Análisis de Componentes Principales (PCA) para reducir la dimensionalidad del conjunto y resumir la información financiera en pocos ejes. Se usarán los primeros cinco componentes, y se construirá un índice ponderado combinando las componentes según su proporción de varianza explicada. Este índice servirá como representación unidimensional de la capacidad financiera."
      ],
      "metadata": {
        "id": "Y1270V9SQER6"
      }
    },
    {
      "cell_type": "code",
      "source": [
        "from sklearn.decomposition import PCA\n",
        "import numpy as np\n",
        "\n",
        "# PCA con 5 componentes principales.\n",
        "n_componentes = 40\n",
        "pca = PCA(n_components=n_componentes)\n",
        "X_pca = pca.fit_transform(X_scaled)\n",
        "\n",
        "# Obtener proporciones de varianza explicada.\n",
        "varianzas = pca.explained_variance_ratio_\n",
        "\n",
        "# Índice financiero: combinación lineal ponderada.\n",
        "indice_financiero = np.dot(X_pca, varianzas)\n",
        "\n",
        "# Armar tabla.\n",
        "tabla_indices = df3[['llavemod']].copy()\n",
        "tabla_indices['Indice_financiero'] = indice_financiero\n",
        "\n",
        "print(tabla_indices.head())"
      ],
      "metadata": {
        "colab": {
          "base_uri": "https://localhost:8080/"
        },
        "id": "qsR7iy2wQEb7",
        "outputId": "72198a08-18e1-4f1e-c980-d4da1d07590f"
      },
      "execution_count": null,
      "outputs": [
        {
          "output_type": "stream",
          "name": "stdout",
          "text": [
            "   llavemod  Indice_financiero\n",
            "0    101101          -0.662753\n",
            "1    210101          -0.686279\n",
            "2    303102          -0.338333\n",
            "3    401101          -0.292944\n",
            "4    503101           0.246904\n"
          ]
        }
      ]
    },
    {
      "cell_type": "markdown",
      "source": [
        "En este paso se explorarán los resultados del PCA con mayor detalle. Se examinará qué porcentaje de varianza explica cada componente, cuál es la varianza acumulada y qué pesos (cargas) tienen las variables en los componentes. Además, se calculará el índice de silueta para evaluar si los datos proyectados por PCA permiten distinguir grupos con claridad mediante clustering."
      ],
      "metadata": {
        "id": "-ARRyztbV8Ek"
      }
    },
    {
      "cell_type": "code",
      "source": [
        "import matplotlib.pyplot as plt\n",
        "import seaborn as sns\n",
        "from sklearn.metrics import silhouette_score\n",
        "from sklearn.cluster import KMeans\n",
        "\n",
        "# Varianza explicada por componente.\n",
        "var_exp = pca.explained_variance_ratio_\n",
        "acum_exp = np.cumsum(var_exp)\n",
        "\n",
        "# Tabla de varianza.\n",
        "tabla_varianza = pd.DataFrame({\n",
        "    'Componente': np.arange(1, n_componentes + 1),\n",
        "    'Varianza %': (var_exp * 100).round(2),\n",
        "    'Varianza acumulada %': (acum_exp * 100).round(2)\n",
        "})\n",
        "print(\"\\n--- Varianza explicada ---\")\n",
        "print(tabla_varianza)\n",
        "\n",
        "# Gráfico de varianza explicada.\n",
        "plt.figure(figsize=(8, 4))\n",
        "sns.barplot(x=tabla_varianza['Componente'], y=tabla_varianza['Varianza %'])\n",
        "plt.plot(tabla_varianza['Componente'], tabla_varianza['Varianza acumulada %'], color='red', marker='o', label='Acumulada')\n",
        "plt.title(\"Varianza explicada por componente\")\n",
        "plt.xlabel(\"Componente principal\")\n",
        "plt.ylabel(\"Varianza (%)\")\n",
        "plt.legend()\n",
        "plt.grid(True)\n",
        "plt.show()\n",
        "\n",
        "# Cargas (pesos de variables).\n",
        "cargas = pd.DataFrame(\n",
        "    pca.components_.T,\n",
        "    index=df_procesado.columns,\n",
        "    columns=[f'PC{i+1}' for i in range(n_componentes)]\n",
        ")\n",
        "#print(\"\\n--- Cargas de variables ---\")\n",
        "#print(cargas.round(3))\n",
        "\n",
        "# Silhouette Score sobre datos proyectados.\n",
        "kmeans = KMeans(n_clusters=3, random_state=42)\n",
        "labels = kmeans.fit_predict(X_pca)\n",
        "silueta = silhouette_score(X_pca, labels)\n",
        "print(f\"\\nSilhouette Score (con KMeans sobre PCA): {silueta:.3f}\")"
      ],
      "metadata": {
        "colab": {
          "base_uri": "https://localhost:8080/",
          "height": 1000
        },
        "id": "eTREDnuOV9tc",
        "outputId": "2e939b2e-ccaf-47bc-ac4e-9ad53705e3cf"
      },
      "execution_count": null,
      "outputs": [
        {
          "output_type": "stream",
          "name": "stdout",
          "text": [
            "\n",
            "--- Varianza explicada ---\n",
            "    Componente  Varianza %  Varianza acumulada %\n",
            "0            1       11.75                 11.75\n",
            "1            2        3.66                 15.41\n",
            "2            3        3.00                 18.41\n",
            "3            4        2.60                 21.01\n",
            "4            5        2.33                 23.35\n",
            "5            6        2.06                 25.41\n",
            "6            7        1.97                 27.38\n",
            "7            8        1.83                 29.21\n",
            "8            9        1.80                 31.01\n",
            "9           10        1.69                 32.70\n",
            "10          11        1.63                 34.33\n",
            "11          12        1.52                 35.85\n",
            "12          13        1.44                 37.29\n",
            "13          14        1.41                 38.70\n",
            "14          15        1.37                 40.07\n",
            "15          16        1.31                 41.38\n",
            "16          17        1.24                 42.61\n",
            "17          18        1.22                 43.83\n",
            "18          19        1.20                 45.03\n",
            "19          20        1.19                 46.22\n",
            "20          21        1.18                 47.40\n",
            "21          22        1.16                 48.56\n",
            "22          23        1.16                 49.72\n",
            "23          24        1.15                 50.87\n",
            "24          25        1.14                 52.01\n",
            "25          26        1.14                 53.14\n",
            "26          27        1.12                 54.27\n",
            "27          28        1.10                 55.37\n",
            "28          29        1.09                 56.46\n",
            "29          30        1.07                 57.53\n",
            "30          31        1.07                 58.60\n",
            "31          32        1.06                 59.66\n",
            "32          33        1.05                 60.71\n",
            "33          34        1.04                 61.75\n",
            "34          35        1.03                 62.77\n",
            "35          36        1.01                 63.79\n",
            "36          37        0.99                 64.78\n",
            "37          38        0.97                 65.75\n",
            "38          39        0.96                 66.71\n",
            "39          40        0.95                 67.65\n"
          ]
        },
        {
          "output_type": "display_data",
          "data": {
            "text/plain": [
              "<Figure size 800x400 with 1 Axes>"
            ],
            "image/png": "[encoded data removed]"
          },
          "metadata": {}
        },
        {
          "output_type": "stream",
          "name": "stdout",
          "text": [
            "\n",
            "Silhouette Score (con KMeans sobre PCA): 0.091\n"
          ]
        }
      ]
    },
    {
      "cell_type": "markdown",
      "source": [
        "A partir del índice continuo de capacidad financiera, se generará una clasificación ordinal en tres niveles (grados). Se usarán terciles (qcut) para garantizar una distribución balanceada entre las clases. Esta clasificación permitirá análisis comparativos posteriores entre grupos de baja, media y alta capacidad."
      ],
      "metadata": {
        "id": "1oNcPpBfVQEp"
      }
    },
    {
      "cell_type": "code",
      "source": [
        "# Clasificar en 3 grados ordinales.\n",
        "tabla_indices['Grado_financiero'] = pd.qcut(\n",
        "    tabla_indices['Indice_financiero'],\n",
        "    q=3,\n",
        "    labels=[1, 2, 3]\n",
        ").astype(int)\n",
        "\n",
        "print(tabla_indices.head(20))"
      ],
      "metadata": {
        "colab": {
          "base_uri": "https://localhost:8080/"
        },
        "id": "G_ZH8lW9VRN1",
        "outputId": "e0c5b8d7-43f4-44cc-82da-1dc1a13c2fe5"
      },
      "execution_count": 50,
      "outputs": [
        {
          "output_type": "stream",
          "name": "stdout",
          "text": [
            "    llavemod  Indice_financiero  Grado_financiero\n",
            "0     101101          -0.662753                 1\n",
            "1     210101          -0.686279                 1\n",
            "2     303102          -0.338333                 1\n",
            "3     401101          -0.292944                 1\n",
            "4     503101           0.246904                 3\n",
            "5     603102           0.342867                 3\n",
            "6     704101           0.173962                 3\n",
            "7     803102          -0.151144                 2\n",
            "8     904102          -0.031295                 2\n",
            "9    1004101           0.242732                 3\n",
            "10   1102102           0.666169                 3\n",
            "11   1201102          -0.144713                 2\n",
            "12   1303104          -0.313014                 1\n",
            "13   1408102           0.528913                 3\n",
            "14   1504101           0.065670                 2\n",
            "15   1609104          -0.120863                 2\n",
            "16   1704101           0.003241                 2\n",
            "17   1816102           0.485603                 3\n",
            "18   1904105          -0.180112                 1\n",
            "19   2008101           0.172696                 3\n"
          ]
        }
      ]
    },
    {
      "cell_type": "markdown",
      "source": [
        "**Interpretación del índice construído**\n",
        "El **índice de capacidad financiera** es una variable continua construida mediante un Análisis de Componentes Principales (PCA), que resume la información proveniente de un conjunto de variables numéricas y categóricas nominales relacionadas con el comportamiento, acceso y el conocimiento financiera. Por ahora, la finalidad fue discretizar este índice para formar tres categorías que permitan clasificar a las personas de acuerdo con su capacidad financiera.\n",
        "\n",
        "Este índice representa, en una sola dimensión, el nivel estimado de capacidad financiera de cada persona. No es posible concluir, por ahora, que valores más altos del índice, se interpretan en que la persona tiene mejor comportamiento, más aceso y conocimiento financiero (por ejemplo, uso de cuentas bancarias, ahorro regular, uso de seguros, conocimiento financiero básico, etc.). Para ello, debería revisarse detalladamente qué representa cada variable dummy creada con OneHot Encoder, porque el índice formado es una suma ponderada de los valores de estas variables dummy, es decir, solo indica presencia o ausencia de una determinada característica.\n"
      ],
      "metadata": {
        "id": "P59AjARoMxzd"
      }
    },
    {
      "cell_type": "markdown",
      "source": [
        "Finalmente, a continuación se muestran promedios o proporciones por grados y por variables. Se usará una tabla descriptiva para comparar el comportamiento promedio de variables numéricas relevantes según el grado asignado. Esto permitirá verificar si los grupos realmente discriminan entre distintos niveles de capacidad financiera."
      ],
      "metadata": {
        "id": "7IAodtAdWp5H"
      }
    },
    {
      "cell_type": "code",
      "source": [
        "# Estadísticas descriptivas por grado (una fila por grado).\n",
        "descriptivas = df_validacion.groupby('Grado_financiero')[variables_usadas].mean().round(2)\n",
        "\n",
        "# Mostrar en horizontal.\n",
        "pd.set_option('display.max_columns', None)\n",
        "pd.set_option('display.width', 1000)\n",
        "\n",
        "print(\"\\nEstadísticas descriptivas por grado de capacidad financiera (horizontal):\")\n",
        "print(descriptivas)"
      ],
      "metadata": {
        "colab": {
          "base_uri": "https://localhost:8080/"
        },
        "id": "XoDj4H56WsJr",
        "outputId": "866b5e15-017a-4b3c-e2ee-a271bfbf6cfa"
      },
      "execution_count": null,
      "outputs": [
        {
          "output_type": "stream",
          "name": "stdout",
          "text": [
            "\n",
            "Estadísticas descriptivas por grado de capacidad financiera (horizontal):\n",
            "                  p0_2  p0_3  p1_1  p3_4  p3_5_7  p4_1  p4_2_1  p4_2_2  p4_2_4  p4_2_5  p4_3  p4_5  p4_6_2  p4_6_3  p4_6_4  p4_6_5  p4_6_6  p4_7_2  p4_7_3  p4_8_2  p4_8_3  p4_8_5  p4_8_6  p4_9_1  p4_9_2  p4_10  p5_1_1  p5_1_3  p5_1_4  p5_1_6  p5_4_1  p5_4_2  p5_4_3  p5_4_4  p5_4_5  p5_4_8  p5_4_9  p5_23  p6_1_1  p6_2_1  p6_2_2  p6_2_3  p6_2_4  p6_2_5  p6_2_6  p6_2_7  p6_2_8  p6_2_9  p6_16  p7_1_1  p7_1_2  p7_2_1  p7_2_2  p7_5  p7_7  p7_8_3  p7_8_4  p7_10  p8_1  p9_1  p10_1  p10_4  p10_7  p11_1_1  p11_1_2  p11_1_3  p11_1_4  p11_1_5  p11_2_1  p11_2_2  p11_2_3  p11_3_1  p11_3_2  p11_3_3  p11_3_4  p11_3_5  p11_3_6  p11_3_9  p11_6_1  p11_6_2  p11_6_3  p12_1  p12_2  p12_3  p12_4  p13_1  p0_4_1  p0_4_2\n",
            "Grado_financiero                                                                                                                                                                                                                                                                                                                                                                                                                                                                                                                                                                                                                                                                                                                \n",
            "1                 4.05  1.36  3.23  1.91    1.02  1.46    1.49    1.23    1.80    1.59  1.22  1.84    1.12    2.17    1.46    2.17    1.82    1.19    1.23    2.00    1.39    1.47    1.69    1.53    1.48   3.47    1.86    1.72    1.84    1.48    1.42    1.93    1.91    1.57    1.93    1.74     2.0   1.44    1.92    1.63    1.61    1.93    1.92    1.94    1.85    1.97    1.96     2.0   1.93    2.48    2.20    1.40    1.66  1.87  1.23    1.12    1.37   2.33  1.51  1.49   1.22   1.09   1.37     1.23     1.51     1.43     1.53     1.45     1.90     1.97     1.36     0.39     0.28     0.01     0.09     0.00     0.02     0.27     1.77     2.01     1.30   1.09   3.35   2.01   2.88   1.66    1.33    1.08\n",
            "2                 3.78  1.13  3.53  1.82    1.03  1.83    1.81    1.46    1.95    1.92  1.39  1.98    1.23    2.08    1.71    2.18    2.21    1.32    1.38    1.74    1.78    1.82    1.93    1.67    1.68   2.61    1.95    1.90    1.91    1.54    1.70    1.91    1.84    1.80    2.00    1.93     2.0   1.76    1.95    1.78    1.91    1.97    1.96    2.00    1.94    1.98    1.99     2.0   2.28    2.89    2.79    1.68    1.85  1.90  1.71    1.23    1.36   2.77  1.87  1.80   1.53   1.35   1.52     1.50     1.88     1.80     1.82     1.65     2.09     2.03     1.64     0.45     0.08     0.01     0.04     0.00     0.03     0.42     2.30     2.15     1.39   1.24   4.47   2.61   2.87   1.67    1.50    1.25\n",
            "3                 3.50  0.92  3.39  1.70    1.10  1.94    1.94    1.73    1.99    1.99  1.58  2.00    1.49    2.22    2.25    2.30    2.63    1.94    2.13    1.73    2.40    2.36    2.37    1.88    1.85   2.12    1.99    1.98    1.98    1.79    1.90    1.93    1.72    1.94    2.00    1.99     2.0   1.89    1.98    1.88    1.97    1.99    1.98    2.00    1.99    1.99    2.00     2.0   2.55    2.99    2.98    1.87    1.96  1.86  1.95    1.38    1.40   4.10  2.03  2.08   1.76   1.70   1.75     2.89     2.93     2.91     3.35     3.07     2.55     2.35     2.04     0.30     0.02     0.00     0.01     0.01     0.03     0.64     2.68     2.44     1.64   2.41   6.52   4.83   3.79   1.71    1.68    1.49\n"
          ]
        }
      ]
    },
    {
      "cell_type": "code",
      "source": [
        "import pandas as pd\n",
        "import matplotlib.pyplot as plt\n",
        "import seaborn as sns\n",
        "\n",
        "# Gráfica de densidad.\n",
        "plt.figure(figsize=(10, 6))\n",
        "sns.kdeplot(data=tabla_indices, x='Indice_financiero', hue='Grado_financiero', fill=True, common_norm=False, alpha=0.4)\n",
        "\n",
        "plt.title('Distribución del índice de capacidad financiera por grado')\n",
        "plt.xlabel('Índice de capacidad financiera')\n",
        "plt.ylabel('Densidad estimada')\n",
        "plt.grid(True)\n",
        "plt.tight_layout()\n",
        "plt.show()"
      ],
      "metadata": {
        "colab": {
          "base_uri": "https://localhost:8080/",
          "height": 607
        },
        "id": "MeTPoEyjkU5B",
        "outputId": "701928e5-727f-4aa5-8b54-85c5017eab5d"
      },
      "execution_count": 48,
      "outputs": [
        {
          "output_type": "display_data",
          "data": {
            "text/plain": [
              "<Figure size 1000x600 with 1 Axes>"
            ],
            "image/png": "[encoded data removed]"
          },
          "metadata": {}
        }
      ]
    },
    {
      "cell_type": "code",
      "source": [
        "# Exportar tabla con identificador, índice y grado\n",
        "tabla_indices.to_csv(\"clasificacion_capacidad_financiera.csv\", index=False)\n",
        "\n",
        "print(\"Archivo exportado como 'clasificacion_capacidad_financiera.csv'\")"
      ],
      "metadata": {
        "colab": {
          "base_uri": "https://localhost:8080/"
        },
        "id": "9rqAmGKZlE8k",
        "outputId": "cbec494d-b9d5-4218-be9d-c2a37fe94581"
      },
      "execution_count": null,
      "outputs": [
        {
          "output_type": "stream",
          "name": "stdout",
          "text": [
            "Archivo exportado como 'clasificacion_capacidad_financiera.csv'\n"
          ]
        }
      ]
    },
    {
      "cell_type": "markdown",
      "source": [
        "**¿Qué sigue y cómo mejorar?**\n",
        "1. Se sugiere revisar intepretaciones de los componentes principales y/o explorar también con un análisis factorial.\n",
        "2. Analizar las variables dummies creadas para buscar interpretación en el índice formado y en su discretización.\n",
        "3. Explorar clasificaciones usando clustering (por ejemplo, K-Means), y comparar los resultados con el índice creado y su discretización.\n",
        "4. Hacer un análisis már riguroso en la selección de variables. Mejorar las búsquedas semánticas en relación a la definición de capacidad financiera. Analizar detalladamente cada una de las variables seleccionadas y hacer un nuevo filtro de aquellas que tengan un valor conceptual elevado relativo a la capacidad financiera.\n",
        "5. Explorar otras formas de clasificación y comparlas con las anteriores. Si hay consistencia, significa que probablemente se está identificando correctamente la capacidad financiera y creando una clasificación racional a partir de ella.\n",
        "6. Otra forma de abordar el problema consistía en leer directamente las descripciones de las variables e ir seleccionando manualmente y ordinalizar estas variables seleccionadas. Sin embargo, esto requiere mucho más tiempo."
      ],
      "metadata": {
        "id": "18oP1eXXaTzT"
      }
    }
  ]
}